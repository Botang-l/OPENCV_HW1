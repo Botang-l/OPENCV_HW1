{
 "cells": [
  {
   "cell_type": "code",
   "execution_count": 12,
   "metadata": {},
   "outputs": [
    {
     "name": "stdout",
     "output_type": "stream",
     "text": [
      "10\n"
     ]
    },
    {
     "data": {
      "text/plain": [
       "30"
      ]
     },
     "execution_count": 12,
     "metadata": {},
     "output_type": "execute_result"
    }
   ],
   "source": [
    "class a():\n",
    "    def __init__(self):\n",
    "        self.aaa = 10\n",
    "\n",
    "class b(a):\n",
    "    def __init__(self):\n",
    "        super().__init__()\n",
    "        self.ccc = 30\n",
    "    def print1(self):\n",
    "        print(self.aaa)\n",
    "\n",
    "aa = b()\n",
    "aa.print1()\n",
    "aa.ccc\n"
   ]
  },
  {
   "cell_type": "code",
   "execution_count": 22,
   "id": "e6c7a621",
   "metadata": {},
   "outputs": [
    {
     "ename": "ValueError",
     "evalue": "all the input array dimensions for the concatenation axis must match exactly, but along dimension 1, the array at index 0 has size 0 and the array at index 1 has size 2",
     "output_type": "error",
     "traceback": [
      "\u001b[1;31m---------------------------------------------------------------------------\u001b[0m",
      "\u001b[1;31mValueError\u001b[0m                                Traceback (most recent call last)",
      "\u001b[1;32mc:\\Users\\uscc_carl\\Desktop\\資工\\電腦視覺與深度學習\\Reference_answer\\Q1\\Untitled.ipynb Cell 2\u001b[0m in \u001b[0;36m<cell line: 4>\u001b[1;34m()\u001b[0m\n\u001b[0;32m      <a href='vscode-notebook-cell:/c%3A/Users/uscc_carl/Desktop/%E8%B3%87%E5%B7%A5/%E9%9B%BB%E8%85%A6%E8%A6%96%E8%A6%BA%E8%88%87%E6%B7%B1%E5%BA%A6%E5%AD%B8%E7%BF%92/Reference_answer/Q1/Untitled.ipynb#W3sZmlsZQ%3D%3D?line=1'>2</a>\u001b[0m a \u001b[39m=\u001b[39m []\n\u001b[0;32m      <a href='vscode-notebook-cell:/c%3A/Users/uscc_carl/Desktop/%E8%B3%87%E5%B7%A5/%E9%9B%BB%E8%85%A6%E8%A6%96%E8%A6%BA%E8%88%87%E6%B7%B1%E5%BA%A6%E5%AD%B8%E7%BF%92/Reference_answer/Q1/Untitled.ipynb#W3sZmlsZQ%3D%3D?line=2'>3</a>\u001b[0m b \u001b[39m=\u001b[39m [[\u001b[39m5\u001b[39m,\u001b[39m6\u001b[39m],[\u001b[39m7\u001b[39m,\u001b[39m8\u001b[39m]]\n\u001b[1;32m----> <a href='vscode-notebook-cell:/c%3A/Users/uscc_carl/Desktop/%E8%B3%87%E5%B7%A5/%E9%9B%BB%E8%85%A6%E8%A6%96%E8%A6%BA%E8%88%87%E6%B7%B1%E5%BA%A6%E5%AD%B8%E7%BF%92/Reference_answer/Q1/Untitled.ipynb#W3sZmlsZQ%3D%3D?line=3'>4</a>\u001b[0m np\u001b[39m.\u001b[39;49mvstack((a,b))\n",
      "File \u001b[1;32m<__array_function__ internals>:180\u001b[0m, in \u001b[0;36mvstack\u001b[1;34m(*args, **kwargs)\u001b[0m\n",
      "File \u001b[1;32mc:\\Users\\uscc_carl\\AppData\\Local\\Programs\\Python\\Python310\\lib\\site-packages\\numpy\\core\\shape_base.py:282\u001b[0m, in \u001b[0;36mvstack\u001b[1;34m(tup)\u001b[0m\n\u001b[0;32m    280\u001b[0m \u001b[39mif\u001b[39;00m \u001b[39mnot\u001b[39;00m \u001b[39misinstance\u001b[39m(arrs, \u001b[39mlist\u001b[39m):\n\u001b[0;32m    281\u001b[0m     arrs \u001b[39m=\u001b[39m [arrs]\n\u001b[1;32m--> 282\u001b[0m \u001b[39mreturn\u001b[39;00m _nx\u001b[39m.\u001b[39;49mconcatenate(arrs, \u001b[39m0\u001b[39;49m)\n",
      "File \u001b[1;32m<__array_function__ internals>:180\u001b[0m, in \u001b[0;36mconcatenate\u001b[1;34m(*args, **kwargs)\u001b[0m\n",
      "\u001b[1;31mValueError\u001b[0m: all the input array dimensions for the concatenation axis must match exactly, but along dimension 1, the array at index 0 has size 0 and the array at index 1 has size 2"
     ]
    }
   ],
   "source": [
    "import numpy as np\n",
    "a = []\n",
    "b = [[5,6],[7,8]]\n",
    "np.vstack((a,b))"
   ]
  },
  {
   "cell_type": "code",
   "execution_count": null,
   "id": "3f75ef7c",
   "metadata": {},
   "outputs": [],
   "source": []
  }
 ],
 "metadata": {
  "kernelspec": {
   "display_name": "Python 3.10.6 64-bit",
   "language": "python",
   "name": "python3"
  },
  "language_info": {
   "codemirror_mode": {
    "name": "ipython",
    "version": 3
   },
   "file_extension": ".py",
   "mimetype": "text/x-python",
   "name": "python",
   "nbconvert_exporter": "python",
   "pygments_lexer": "ipython3",
   "version": "3.10.6"
  },
  "vscode": {
   "interpreter": {
    "hash": "9f32e29f85dbbd0b5b72d11109c42db7aa21d3406279ecdc66ca42ae05d6c5ee"
   }
  }
 },
 "nbformat": 4,
 "nbformat_minor": 5
}
